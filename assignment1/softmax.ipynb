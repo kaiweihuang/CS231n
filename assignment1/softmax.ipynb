{
 "cells": [
  {
   "cell_type": "markdown",
   "metadata": {},
   "source": [
    "# Softmax exercise\n",
    "\n",
    "*Complete and hand in this completed worksheet (including its outputs and any supporting code outside of the worksheet) with your assignment submission. For more details see the [assignments page](http://vision.stanford.edu/teaching/cs231n/assignments.html) on the course website.*\n",
    "\n",
    "This exercise is analogous to the SVM exercise. You will:\n",
    "\n",
    "- implement a fully-vectorized **loss function** for the Softmax classifier\n",
    "- implement the fully-vectorized expression for its **analytic gradient**\n",
    "- **check your implementation** with numerical gradient\n",
    "- use a validation set to **tune the learning rate and regularization** strength\n",
    "- **optimize** the loss function with **SGD**\n",
    "- **visualize** the final learned weights\n"
   ]
  },
  {
   "cell_type": "code",
   "execution_count": 1,
   "metadata": {},
   "outputs": [],
   "source": [
    "import random\n",
    "import numpy as np\n",
    "from cs231n.data_utils import load_CIFAR10\n",
    "import matplotlib.pyplot as plt\n",
    "%matplotlib inline\n",
    "plt.rcParams['figure.figsize'] = (10.0, 8.0) # set default size of plots\n",
    "plt.rcParams['image.interpolation'] = 'nearest'\n",
    "plt.rcParams['image.cmap'] = 'gray'\n",
    "\n",
    "# for auto-reloading extenrnal modules\n",
    "# see http://stackoverflow.com/questions/1907993/autoreload-of-modules-in-ipython\n",
    "%load_ext autoreload\n",
    "%autoreload 2"
   ]
  },
  {
   "cell_type": "code",
   "execution_count": 2,
   "metadata": {},
   "outputs": [
    {
     "name": "stdout",
     "output_type": "stream",
     "text": [
      "Train data shape:  (49000, 3073)\n",
      "Train labels shape:  (49000,)\n",
      "Validation data shape:  (1000, 3073)\n",
      "Validation labels shape:  (1000,)\n",
      "Test data shape:  (1000, 3073)\n",
      "Test labels shape:  (1000,)\n",
      "dev data shape:  (500, 3073)\n",
      "dev labels shape:  (500,)\n"
     ]
    }
   ],
   "source": [
    "def get_CIFAR10_data(num_training=49000, num_validation=1000, num_test=1000, num_dev=500):\n",
    "  \"\"\"\n",
    "  Load the CIFAR-10 dataset from disk and perform preprocessing to prepare\n",
    "  it for the linear classifier. These are the same steps as we used for the\n",
    "  SVM, but condensed to a single function.  \n",
    "  \"\"\"\n",
    "  # Load the raw CIFAR-10 data\n",
    "  cifar10_dir = 'cs231n/datasets/cifar-10-batches-py'\n",
    "  X_train, y_train, X_test, y_test = load_CIFAR10(cifar10_dir)\n",
    "  \n",
    "  # subsample the data\n",
    "  mask = range(num_training, num_training + num_validation)\n",
    "  X_val = X_train[mask]\n",
    "  y_val = y_train[mask]\n",
    "  mask = range(num_training)\n",
    "  X_train = X_train[mask]\n",
    "  y_train = y_train[mask]\n",
    "  mask = range(num_test)\n",
    "  X_test = X_test[mask]\n",
    "  y_test = y_test[mask]\n",
    "  mask = np.random.choice(num_training, num_dev, replace=False)\n",
    "  X_dev = X_train[mask]\n",
    "  y_dev = y_train[mask]\n",
    "  \n",
    "  # Preprocessing: reshape the image data into rows\n",
    "  X_train = np.reshape(X_train, (X_train.shape[0], -1))\n",
    "  X_val = np.reshape(X_val, (X_val.shape[0], -1))\n",
    "  X_test = np.reshape(X_test, (X_test.shape[0], -1))\n",
    "  X_dev = np.reshape(X_dev, (X_dev.shape[0], -1))\n",
    "  \n",
    "  # Normalize the data: subtract the mean image\n",
    "  mean_image = np.mean(X_train, axis = 0)\n",
    "  X_train -= mean_image\n",
    "  X_val -= mean_image\n",
    "  X_test -= mean_image\n",
    "  X_dev -= mean_image\n",
    "  \n",
    "  # add bias dimension and transform into columns\n",
    "  X_train = np.hstack([X_train, np.ones((X_train.shape[0], 1))])\n",
    "  X_val = np.hstack([X_val, np.ones((X_val.shape[0], 1))])\n",
    "  X_test = np.hstack([X_test, np.ones((X_test.shape[0], 1))])\n",
    "  X_dev = np.hstack([X_dev, np.ones((X_dev.shape[0], 1))])\n",
    "  \n",
    "  return X_train, y_train, X_val, y_val, X_test, y_test, X_dev, y_dev\n",
    "\n",
    "\n",
    "# Invoke the above function to get our data.\n",
    "X_train, y_train, X_val, y_val, X_test, y_test, X_dev, y_dev = get_CIFAR10_data()\n",
    "print('Train data shape: ', X_train.shape)\n",
    "print('Train labels shape: ', y_train.shape)\n",
    "print('Validation data shape: ', X_val.shape)\n",
    "print('Validation labels shape: ', y_val.shape)\n",
    "print('Test data shape: ', X_test.shape)\n",
    "print('Test labels shape: ', y_test.shape)\n",
    "print('dev data shape: ', X_dev.shape)\n",
    "print('dev labels shape: ', y_dev.shape)"
   ]
  },
  {
   "cell_type": "markdown",
   "metadata": {},
   "source": [
    "## Softmax Classifier\n",
    "\n",
    "Your code for this section will all be written inside **cs231n/classifiers/softmax.py**. \n"
   ]
  },
  {
   "cell_type": "code",
   "execution_count": 3,
   "metadata": {},
   "outputs": [
    {
     "name": "stdout",
     "output_type": "stream",
     "text": [
      "loss: 2.338260\n",
      "sanity check: 2.302585\n"
     ]
    }
   ],
   "source": [
    "# First implement the naive softmax loss function with nested loops.\n",
    "# Open the file cs231n/classifiers/softmax.py and implement the\n",
    "# softmax_loss_naive function.\n",
    "\n",
    "from cs231n.classifiers.softmax import softmax_loss_naive\n",
    "import time\n",
    "\n",
    "# Generate a random softmax weight matrix and use it to compute the loss.\n",
    "W = np.random.randn(3073, 10) * 0.0001\n",
    "loss, grad = softmax_loss_naive(W, X_dev, y_dev, 0.0)\n",
    "\n",
    "# As a rough sanity check, our loss should be something close to -log(0.1).\n",
    "print('loss: %f' % loss)\n",
    "print('sanity check: %f' % (-np.log(0.1)))"
   ]
  },
  {
   "cell_type": "markdown",
   "metadata": {},
   "source": [
    "## Inline Question 1:\n",
    "Why do we expect our loss to be close to -log(0.1)? Explain briefly.**\n",
    "\n",
    "**Your answer:** With random initialization of W, given a training/test example, for uniform random guess, the predicted probability of each class is identical, which equals 1/10, where 10 is the number of classes, so the cross entropy for each example is approximately -log(0.1).\n"
   ]
  },
  {
   "cell_type": "code",
   "execution_count": 4,
   "metadata": {},
   "outputs": [
    {
     "name": "stdout",
     "output_type": "stream",
     "text": [
      "numerical: -0.202926 analytic: -0.202926, relative error: 3.590231e-08\n",
      "numerical: 0.974089 analytic: 0.974089, relative error: 1.811695e-08\n",
      "numerical: 1.739796 analytic: 1.739796, relative error: 5.092432e-09\n",
      "numerical: 0.763756 analytic: 0.763756, relative error: 3.741315e-08\n",
      "numerical: 0.424749 analytic: 0.424749, relative error: 7.691227e-08\n",
      "numerical: 0.598776 analytic: 0.598776, relative error: 8.991151e-08\n",
      "numerical: -0.588255 analytic: -0.588255, relative error: 1.383364e-08\n",
      "numerical: -0.913904 analytic: -0.913904, relative error: 6.104102e-09\n",
      "numerical: 1.576725 analytic: 1.576725, relative error: 2.900770e-08\n",
      "numerical: -3.379775 analytic: -3.379775, relative error: 5.439697e-09\n",
      "numerical: -1.090318 analytic: -1.090318, relative error: 2.129308e-08\n",
      "numerical: -0.161633 analytic: -0.161633, relative error: 1.445941e-07\n",
      "numerical: -2.308395 analytic: -2.308395, relative error: 8.546568e-09\n",
      "numerical: -5.280612 analytic: -5.280612, relative error: 7.391501e-09\n",
      "numerical: 0.519747 analytic: 0.519747, relative error: 1.248358e-07\n",
      "numerical: 2.420588 analytic: 2.420588, relative error: 3.709659e-09\n",
      "numerical: 1.471081 analytic: 1.471081, relative error: 7.449186e-09\n",
      "numerical: 0.473180 analytic: 0.473180, relative error: 7.625441e-08\n",
      "numerical: -2.756514 analytic: -2.756514, relative error: 2.827538e-08\n",
      "numerical: 1.958497 analytic: 1.958496, relative error: 9.462007e-09\n"
     ]
    }
   ],
   "source": [
    "# Complete the implementation of softmax_loss_naive and implement a (naive)\n",
    "# version of the gradient that uses nested loops.\n",
    "loss, grad = softmax_loss_naive(W, X_dev, y_dev, 0.0)\n",
    "\n",
    "# As we did for the SVM, use numeric gradient checking as a debugging tool.\n",
    "# The numeric gradient should be close to the analytic gradient.\n",
    "from cs231n.gradient_check import grad_check_sparse\n",
    "f = lambda w: softmax_loss_naive(w, X_dev, y_dev, 0.0)[0]\n",
    "grad_numerical = grad_check_sparse(f, W, grad, 10)\n",
    "\n",
    "# similar to SVM case, do another gradient check with regularization\n",
    "loss, grad = softmax_loss_naive(W, X_dev, y_dev, 1e2)\n",
    "f = lambda w: softmax_loss_naive(w, X_dev, y_dev, 1e2)[0]\n",
    "grad_numerical = grad_check_sparse(f, W, grad, 10)"
   ]
  },
  {
   "cell_type": "code",
   "execution_count": 6,
   "metadata": {},
   "outputs": [
    {
     "name": "stdout",
     "output_type": "stream",
     "text": [
      "naive loss: 2.338260e+00 computed in 0.204682s\n",
      "vectorized loss: 2.338260e+00 computed in 0.009996s\n",
      "Loss difference: 0.000000\n",
      "Gradient difference: 0.000000\n"
     ]
    }
   ],
   "source": [
    "# Now that we have a naive implementation of the softmax loss function and its gradient,\n",
    "# implement a vectorized version in softmax_loss_vectorized.\n",
    "# The two versions should compute the same results, but the vectorized version should be\n",
    "# much faster.\n",
    "tic = time.time()\n",
    "loss_naive, grad_naive = softmax_loss_naive(W, X_dev, y_dev, 0.00001)\n",
    "toc = time.time()\n",
    "print('naive loss: %e computed in %fs' % (loss_naive, toc - tic))\n",
    "\n",
    "from cs231n.classifiers.softmax import softmax_loss_vectorized\n",
    "tic = time.time()\n",
    "loss_vectorized, grad_vectorized = softmax_loss_vectorized(W, X_dev, y_dev, 0.00001)\n",
    "toc = time.time()\n",
    "print('vectorized loss: %e computed in %fs' % (loss_vectorized, toc - tic))\n",
    "\n",
    "# As we did for the SVM, we use the Frobenius norm to compare the two versions\n",
    "# of the gradient.\n",
    "grad_difference = np.linalg.norm(grad_naive - grad_vectorized, ord='fro')\n",
    "print('Loss difference: %f' % np.abs(loss_naive - loss_vectorized))\n",
    "print('Gradient difference: %f' % grad_difference)"
   ]
  },
  {
   "cell_type": "code",
   "execution_count": 9,
   "metadata": {},
   "outputs": [
    {
     "name": "stdout",
     "output_type": "stream",
     "text": [
      "lr 1.000000e-07 reg 1.000000e+04 train accuracy: 0.330469 val accuracy: 0.323000\n",
      "lr 1.000000e-07 reg 1.100000e+04 train accuracy: 0.343163 val accuracy: 0.353000\n",
      "lr 1.000000e-07 reg 1.200000e+04 train accuracy: 0.343612 val accuracy: 0.363000\n",
      "lr 1.000000e-07 reg 1.300000e+04 train accuracy: 0.341959 val accuracy: 0.351000\n",
      "lr 1.000000e-07 reg 1.400000e+04 train accuracy: 0.347980 val accuracy: 0.363000\n",
      "lr 1.000000e-07 reg 1.500000e+04 train accuracy: 0.350245 val accuracy: 0.364000\n",
      "lr 1.000000e-07 reg 1.600000e+04 train accuracy: 0.354408 val accuracy: 0.375000\n",
      "lr 1.000000e-07 reg 1.700000e+04 train accuracy: 0.353776 val accuracy: 0.375000\n",
      "lr 1.000000e-07 reg 1.800000e+04 train accuracy: 0.353714 val accuracy: 0.371000\n",
      "lr 1.000000e-07 reg 1.900000e+04 train accuracy: 0.350510 val accuracy: 0.368000\n",
      "lr 1.000000e-07 reg 2.000000e+04 train accuracy: 0.352041 val accuracy: 0.368000\n",
      "lr 1.000000e-07 reg 2.100000e+04 train accuracy: 0.352429 val accuracy: 0.360000\n",
      "lr 1.000000e-07 reg 2.200000e+04 train accuracy: 0.351918 val accuracy: 0.376000\n",
      "lr 1.000000e-07 reg 2.300000e+04 train accuracy: 0.351980 val accuracy: 0.358000\n",
      "lr 1.000000e-07 reg 2.400000e+04 train accuracy: 0.349939 val accuracy: 0.358000\n",
      "lr 1.000000e-07 reg 2.500000e+04 train accuracy: 0.352551 val accuracy: 0.361000\n",
      "lr 1.000000e-07 reg 2.600000e+04 train accuracy: 0.349082 val accuracy: 0.367000\n",
      "lr 1.000000e-07 reg 2.700000e+04 train accuracy: 0.351571 val accuracy: 0.357000\n",
      "lr 1.000000e-07 reg 2.800000e+04 train accuracy: 0.348102 val accuracy: 0.363000\n",
      "lr 1.000000e-07 reg 2.900000e+04 train accuracy: 0.347286 val accuracy: 0.354000\n",
      "lr 1.000000e-07 reg 3.000000e+04 train accuracy: 0.349837 val accuracy: 0.364000\n",
      "lr 1.000000e-07 reg 3.100000e+04 train accuracy: 0.342306 val accuracy: 0.361000\n",
      "lr 1.000000e-07 reg 3.200000e+04 train accuracy: 0.344286 val accuracy: 0.365000\n",
      "lr 1.000000e-07 reg 3.300000e+04 train accuracy: 0.338327 val accuracy: 0.346000\n",
      "lr 1.000000e-07 reg 3.400000e+04 train accuracy: 0.340224 val accuracy: 0.359000\n",
      "lr 1.000000e-07 reg 3.500000e+04 train accuracy: 0.342755 val accuracy: 0.358000\n",
      "lr 1.000000e-07 reg 3.600000e+04 train accuracy: 0.339327 val accuracy: 0.354000\n",
      "lr 1.000000e-07 reg 3.700000e+04 train accuracy: 0.342122 val accuracy: 0.349000\n",
      "lr 1.000000e-07 reg 3.800000e+04 train accuracy: 0.339143 val accuracy: 0.350000\n",
      "lr 1.000000e-07 reg 3.900000e+04 train accuracy: 0.335551 val accuracy: 0.352000\n",
      "lr 1.000000e-07 reg 4.000000e+04 train accuracy: 0.335327 val accuracy: 0.349000\n",
      "lr 1.000000e-07 reg 4.100000e+04 train accuracy: 0.335735 val accuracy: 0.340000\n",
      "lr 1.000000e-07 reg 4.200000e+04 train accuracy: 0.333653 val accuracy: 0.348000\n",
      "lr 1.000000e-07 reg 4.300000e+04 train accuracy: 0.337143 val accuracy: 0.350000\n",
      "lr 1.000000e-07 reg 4.400000e+04 train accuracy: 0.331429 val accuracy: 0.353000\n",
      "lr 1.000000e-07 reg 4.500000e+04 train accuracy: 0.332082 val accuracy: 0.342000\n",
      "lr 1.000000e-07 reg 4.600000e+04 train accuracy: 0.332551 val accuracy: 0.351000\n",
      "lr 1.000000e-07 reg 4.700000e+04 train accuracy: 0.333041 val accuracy: 0.349000\n",
      "lr 1.000000e-07 reg 4.800000e+04 train accuracy: 0.328265 val accuracy: 0.346000\n",
      "lr 1.000000e-07 reg 4.900000e+04 train accuracy: 0.330980 val accuracy: 0.347000\n",
      "lr 1.000000e-07 reg 5.000000e+04 train accuracy: 0.329041 val accuracy: 0.339000\n",
      "lr 1.000000e-07 reg 5.100000e+04 train accuracy: 0.331898 val accuracy: 0.348000\n",
      "lr 1.000000e-07 reg 5.200000e+04 train accuracy: 0.327000 val accuracy: 0.338000\n",
      "lr 1.000000e-07 reg 5.300000e+04 train accuracy: 0.325837 val accuracy: 0.333000\n",
      "lr 1.000000e-07 reg 5.400000e+04 train accuracy: 0.326592 val accuracy: 0.344000\n",
      "lr 1.000000e-07 reg 5.500000e+04 train accuracy: 0.328061 val accuracy: 0.332000\n",
      "lr 1.000000e-07 reg 5.600000e+04 train accuracy: 0.321327 val accuracy: 0.332000\n",
      "lr 1.000000e-07 reg 5.700000e+04 train accuracy: 0.324265 val accuracy: 0.334000\n",
      "lr 1.000000e-07 reg 5.800000e+04 train accuracy: 0.318490 val accuracy: 0.337000\n",
      "lr 1.000000e-07 reg 5.900000e+04 train accuracy: 0.324633 val accuracy: 0.338000\n",
      "lr 1.000000e-07 reg 6.000000e+04 train accuracy: 0.317143 val accuracy: 0.335000\n",
      "lr 5.000000e-07 reg 1.000000e+04 train accuracy: 0.374571 val accuracy: 0.387000\n",
      "lr 5.000000e-07 reg 1.100000e+04 train accuracy: 0.363286 val accuracy: 0.363000\n",
      "lr 5.000000e-07 reg 1.200000e+04 train accuracy: 0.362878 val accuracy: 0.369000\n",
      "lr 5.000000e-07 reg 1.300000e+04 train accuracy: 0.368143 val accuracy: 0.372000\n",
      "lr 5.000000e-07 reg 1.400000e+04 train accuracy: 0.365939 val accuracy: 0.372000\n",
      "lr 5.000000e-07 reg 1.500000e+04 train accuracy: 0.353367 val accuracy: 0.362000\n",
      "lr 5.000000e-07 reg 1.600000e+04 train accuracy: 0.356510 val accuracy: 0.372000\n",
      "lr 5.000000e-07 reg 1.700000e+04 train accuracy: 0.353714 val accuracy: 0.374000\n",
      "lr 5.000000e-07 reg 1.800000e+04 train accuracy: 0.348408 val accuracy: 0.371000\n",
      "lr 5.000000e-07 reg 1.900000e+04 train accuracy: 0.358918 val accuracy: 0.360000\n",
      "lr 5.000000e-07 reg 2.000000e+04 train accuracy: 0.352633 val accuracy: 0.355000\n",
      "lr 5.000000e-07 reg 2.100000e+04 train accuracy: 0.340653 val accuracy: 0.355000\n",
      "lr 5.000000e-07 reg 2.200000e+04 train accuracy: 0.352510 val accuracy: 0.367000\n",
      "lr 5.000000e-07 reg 2.300000e+04 train accuracy: 0.349061 val accuracy: 0.358000\n",
      "lr 5.000000e-07 reg 2.400000e+04 train accuracy: 0.350735 val accuracy: 0.366000\n",
      "lr 5.000000e-07 reg 2.500000e+04 train accuracy: 0.341878 val accuracy: 0.358000\n",
      "lr 5.000000e-07 reg 2.600000e+04 train accuracy: 0.345122 val accuracy: 0.369000\n",
      "lr 5.000000e-07 reg 2.700000e+04 train accuracy: 0.343469 val accuracy: 0.352000\n",
      "lr 5.000000e-07 reg 2.800000e+04 train accuracy: 0.338510 val accuracy: 0.351000\n",
      "lr 5.000000e-07 reg 2.900000e+04 train accuracy: 0.338816 val accuracy: 0.350000\n",
      "lr 5.000000e-07 reg 3.000000e+04 train accuracy: 0.345245 val accuracy: 0.352000\n",
      "lr 5.000000e-07 reg 3.100000e+04 train accuracy: 0.339816 val accuracy: 0.353000\n",
      "lr 5.000000e-07 reg 3.200000e+04 train accuracy: 0.334571 val accuracy: 0.362000\n",
      "lr 5.000000e-07 reg 3.300000e+04 train accuracy: 0.337082 val accuracy: 0.345000\n",
      "lr 5.000000e-07 reg 3.400000e+04 train accuracy: 0.330367 val accuracy: 0.343000\n",
      "lr 5.000000e-07 reg 3.500000e+04 train accuracy: 0.334347 val accuracy: 0.350000\n",
      "lr 5.000000e-07 reg 3.600000e+04 train accuracy: 0.329306 val accuracy: 0.341000\n",
      "lr 5.000000e-07 reg 3.700000e+04 train accuracy: 0.341122 val accuracy: 0.343000\n",
      "lr 5.000000e-07 reg 3.800000e+04 train accuracy: 0.337265 val accuracy: 0.343000\n",
      "lr 5.000000e-07 reg 3.900000e+04 train accuracy: 0.327918 val accuracy: 0.348000\n",
      "lr 5.000000e-07 reg 4.000000e+04 train accuracy: 0.330041 val accuracy: 0.347000\n",
      "lr 5.000000e-07 reg 4.100000e+04 train accuracy: 0.333347 val accuracy: 0.356000\n",
      "lr 5.000000e-07 reg 4.200000e+04 train accuracy: 0.332776 val accuracy: 0.337000\n",
      "lr 5.000000e-07 reg 4.300000e+04 train accuracy: 0.335286 val accuracy: 0.348000\n",
      "lr 5.000000e-07 reg 4.400000e+04 train accuracy: 0.328347 val accuracy: 0.353000\n",
      "lr 5.000000e-07 reg 4.500000e+04 train accuracy: 0.321224 val accuracy: 0.340000\n",
      "lr 5.000000e-07 reg 4.600000e+04 train accuracy: 0.332224 val accuracy: 0.344000\n",
      "lr 5.000000e-07 reg 4.700000e+04 train accuracy: 0.336776 val accuracy: 0.351000\n",
      "lr 5.000000e-07 reg 4.800000e+04 train accuracy: 0.327122 val accuracy: 0.339000\n",
      "lr 5.000000e-07 reg 4.900000e+04 train accuracy: 0.327469 val accuracy: 0.332000\n",
      "lr 5.000000e-07 reg 5.000000e+04 train accuracy: 0.322061 val accuracy: 0.341000\n",
      "lr 5.000000e-07 reg 5.100000e+04 train accuracy: 0.327224 val accuracy: 0.342000\n",
      "lr 5.000000e-07 reg 5.200000e+04 train accuracy: 0.318755 val accuracy: 0.335000\n",
      "lr 5.000000e-07 reg 5.300000e+04 train accuracy: 0.317000 val accuracy: 0.329000\n",
      "lr 5.000000e-07 reg 5.400000e+04 train accuracy: 0.325878 val accuracy: 0.343000\n",
      "lr 5.000000e-07 reg 5.500000e+04 train accuracy: 0.322204 val accuracy: 0.338000\n",
      "lr 5.000000e-07 reg 5.600000e+04 train accuracy: 0.321837 val accuracy: 0.336000\n",
      "lr 5.000000e-07 reg 5.700000e+04 train accuracy: 0.330633 val accuracy: 0.339000\n",
      "lr 5.000000e-07 reg 5.800000e+04 train accuracy: 0.305653 val accuracy: 0.315000\n",
      "lr 5.000000e-07 reg 5.900000e+04 train accuracy: 0.313735 val accuracy: 0.312000\n",
      "lr 5.000000e-07 reg 6.000000e+04 train accuracy: 0.327184 val accuracy: 0.342000\n",
      "best validation accuracy achieved during cross-validation: 0.387000\n"
     ]
    }
   ],
   "source": [
    "# Use the validation set to tune hyperparameters (regularization strength and\n",
    "# learning rate). You should experiment with different ranges for the learning\n",
    "# rates and regularization strengths; if you are careful you should be able to\n",
    "# get a classification accuracy of over 0.35 on the validation set.\n",
    "from cs231n.classifiers import Softmax\n",
    "results = {}\n",
    "best_val = -1\n",
    "best_softmax = None\n",
    "learning_rates = [1e-7, 5e-7]\n",
    "regularization_strengths = [(i+0.1*j)*1e4 for i in range(1,6) for j in range(11)]\n",
    "\n",
    "################################################################################\n",
    "# TODO:                                                                        #\n",
    "# Use the validation set to set the learning rate and regularization strength. #\n",
    "# This should be identical to the validation that you did for the SVM; save    #\n",
    "# the best trained softmax classifer in best_softmax.                          #\n",
    "################################################################################\n",
    "for lr in learning_rates:\n",
    "    for reg in regularization_strengths:\n",
    "        softmax = Softmax()\n",
    "        loss_history = softmax.train(X_train,y_train,learning_rate = lr,reg = reg,num_iters = 1500)\n",
    "        y_train_pred = softmax.predict(X_train)\n",
    "        train_accuracy = np.mean(y_train == y_train_pred)\n",
    "        y_val_pred = softmax.predict(X_val)\n",
    "        val_accuracy = np.mean(y_val == y_val_pred)\n",
    "        if val_accuracy > best_val:\n",
    "            best_val = val_accuracy\n",
    "            best_softmax = softmax\n",
    "        results[(lr,reg)] = (train_accuracy,val_accuracy)\n",
    "################################################################################\n",
    "#                              END OF YOUR CODE                                #\n",
    "################################################################################\n",
    "    \n",
    "# Print out results.\n",
    "for lr, reg in sorted(results):\n",
    "    train_accuracy, val_accuracy = results[(lr, reg)]\n",
    "    print('lr %e reg %e train accuracy: %f val accuracy: %f' % (lr, reg, train_accuracy, val_accuracy))\n",
    "    \n",
    "print('best validation accuracy achieved during cross-validation: %f' % best_val)"
   ]
  },
  {
   "cell_type": "code",
   "execution_count": 10,
   "metadata": {},
   "outputs": [
    {
     "name": "stdout",
     "output_type": "stream",
     "text": [
      "softmax on raw pixels final test set accuracy: 0.378000\n"
     ]
    }
   ],
   "source": [
    "# evaluate on test set\n",
    "# Evaluate the best softmax on test set\n",
    "y_test_pred = best_softmax.predict(X_test)\n",
    "test_accuracy = np.mean(y_test == y_test_pred)\n",
    "print('softmax on raw pixels final test set accuracy: %f' % (test_accuracy, ))"
   ]
  },
  {
   "cell_type": "code",
   "execution_count": 11,
   "metadata": {},
   "outputs": [
    {
     "data": {
      "image/png": "[encoded data removed]",
      "text/plain": [
       "<Figure size 432x288 with 10 Axes>"
      ]
     },
     "metadata": {},
     "output_type": "display_data"
    }
   ],
   "source": [
    "# Visualize the learned weights for each class\n",
    "w = best_softmax.W[:-1,:] # strip out the bias\n",
    "w = w.reshape(32, 32, 3, 10)\n",
    "\n",
    "w_min, w_max = np.min(w), np.max(w)\n",
    "\n",
    "classes = ['plane', 'car', 'bird', 'cat', 'deer', 'dog', 'frog', 'horse', 'ship', 'truck']\n",
    "for i in range(10):\n",
    "  plt.subplot(2, 5, i + 1)\n",
    "  \n",
    "  # Rescale the weights to be between 0 and 255\n",
    "  wimg = 255.0 * (w[:, :, :, i].squeeze() - w_min) / (w_max - w_min)\n",
    "  plt.imshow(wimg.astype('uint8'))\n",
    "  plt.axis('off')\n",
    "  plt.title(classes[i])"
   ]
  },
  {
   "cell_type": "code",
   "execution_count": null,
   "metadata": {},
   "outputs": [],
   "source": []
  }
 ],
 "metadata": {
  "kernelspec": {
   "display_name": "Python 3",
   "language": "python",
   "name": "python3"
  },
  "language_info": {
   "codemirror_mode": {
    "name": "ipython",
    "version": 3
   },
   "file_extension": ".py",
   "mimetype": "text/x-python",
   "name": "python",
   "nbconvert_exporter": "python",
   "pygments_lexer": "ipython3",
   "version": "3.6.5"
  }
 },
 "nbformat": 4,
 "nbformat_minor": 1
}
